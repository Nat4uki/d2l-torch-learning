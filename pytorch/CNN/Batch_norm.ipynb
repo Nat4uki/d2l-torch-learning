{
 "cells": [
  {
   "metadata": {
    "ExecuteTime": {
     "end_time": "2024-05-08T04:33:46.472090Z",
     "start_time": "2024-05-08T04:33:44.579418Z"
    }
   },
   "cell_type": "code",
   "source": [
    "import torch\n",
    "from torch import nn\n",
    "from d2l import torch as d2l\n",
    "from torch.nn import functional as F\n",
    "from train_epoch.train import train_ch6"
   ],
   "id": "da22d54cc76c62aa",
   "outputs": [],
   "execution_count": 1
  },
  {
   "metadata": {
    "ExecuteTime": {
     "end_time": "2024-05-08T04:33:48.236790Z",
     "start_time": "2024-05-08T04:33:48.218746Z"
    }
   },
   "cell_type": "code",
   "source": [
    "def batch_norm(X, gamma, beta, moving_mean, moving_var, eps, momentum):\n",
    "    if not torch.is_grad_enabled():\n",
    "        X_hat = (X - moving_mean) / torch.sqrt(moving_var  + eps)\n",
    "    else:\n",
    "        assert len(X.shape) in (2, 4)\n",
    "        if len(X.shape) == 2:\n",
    "            mean = X.mean(dim=0)\n",
    "            var = ((X - mean) ** 2).mean(dim=0)\n",
    "        else:\n",
    "            mean = X.mean(dim=(0, 2, 3), keepdim=True)\n",
    "            var = ((X - mean) ** 2).mean(dim=(0, 2, 3), keepdim=True)\n",
    "        X_hat = (X - mean) / torch.sqrt(var + eps)\n",
    "        moving_mean = momentum * moving_mean + (1.0 - momentum) * mean\n",
    "        moving_var = momentum * moving_var + (1.0 - momentum) * var\n",
    "    Y = gamma * X_hat + beta\n",
    "    return Y, moving_mean.data, moving_var.data"
   ],
   "id": "d0f906c27484bcc1",
   "outputs": [],
   "execution_count": 2
  },
  {
   "metadata": {
    "ExecuteTime": {
     "end_time": "2024-05-08T04:33:49.054958Z",
     "start_time": "2024-05-08T04:33:49.045389Z"
    }
   },
   "cell_type": "code",
   "source": [
    "class BatchNorm(nn.Module):\n",
    "    def __init__(self, num_features, num_dims):\n",
    "        super().__init__()\n",
    "        if num_dims == 2:\n",
    "            shape = (1, num_features)\n",
    "        else:\n",
    "            shape = (1, num_features, 1, 1)\n",
    "        self.gamma = nn.Parameter(torch.ones(shape))\n",
    "        self.beta = nn.Parameter(torch.zeros(shape))\n",
    "        self.moving_mean = torch.zeros(shape)\n",
    "        self.moving_var = torch.ones(shape)\n",
    "        \n",
    "    def forward(self, X):\n",
    "        if self.moving_mean.device != X.device:\n",
    "            self.moving_mean = self.moving_mean.to(X.device)\n",
    "            self.moving_var = self.moving_var.to(X.device)\n",
    "        Y, self.moving_mean, self.moving_var = batch_norm(\n",
    "            X, self.gamma, self.beta, self.moving_mean, self.moving_var, eps=1e-5, momentum=0.9\n",
    "        )\n",
    "        return Y"
   ],
   "id": "15c52e008db4bbc7",
   "outputs": [],
   "execution_count": 3
  },
  {
   "metadata": {
    "ExecuteTime": {
     "end_time": "2024-05-08T04:33:51.647546Z",
     "start_time": "2024-05-08T04:33:51.631547Z"
    }
   },
   "cell_type": "code",
   "source": [
    "net = nn.Sequential(\n",
    "    nn.Conv2d(1, 6, kernel_size=5), BatchNorm(6, num_dims=4), nn.Sigmoid(),\n",
    "    nn.AvgPool2d(kernel_size=2, stride=2),\n",
    "    nn.Conv2d(6, 16, kernel_size=5), BatchNorm(16, num_dims=4), nn.Sigmoid(),\n",
    "    nn.AvgPool2d(kernel_size=2, stride=2), nn.Flatten(),\n",
    "    nn.Linear(16*4*4, 120), BatchNorm(120, num_dims=2), nn.Sigmoid(),\n",
    "    nn.Linear(120, 84), BatchNorm(84, num_dims=2), nn.Sigmoid(),\n",
    "    nn.Linear(84, 10))"
   ],
   "id": "110f4e29406851ef",
   "outputs": [],
   "execution_count": 4
  },
  {
   "metadata": {
    "ExecuteTime": {
     "end_time": "2024-05-08T04:20:18.262324Z",
     "start_time": "2024-05-08T04:19:31.096788Z"
    }
   },
   "cell_type": "code",
   "source": [
    "lr, num_epochs, batch_size = 0.1, 10, 256\n",
    "train_iter, test_iter = d2l.load_data_fashion_mnist(batch_size)\n",
    "train_ch6(net, train_iter, test_iter, num_epochs, lr, d2l.try_gpu(),\n",
    "          save_path=\"models/leNet_norm\",load_dir=\"models/leNet_norm/best.ckpt\")"
   ],
   "id": "bb23b5e1c5ed5e10",
   "outputs": [
    {
     "name": "stdout",
     "output_type": "stream",
     "text": [
      "load model from models/leNet_norm/best.ckpt\n",
      "training on cuda:0\n"
     ]
    },
    {
     "name": "stderr",
     "output_type": "stream",
     "text": [
      "Epoch 1/10: 100%|██████████| 60000/60000 [00:02<00:00, 20151.29img/s, loss=0.2694, train_acc=0.9022]\n"
     ]
    },
    {
     "name": "stdout",
     "output_type": "stream",
     "text": [
      "epoch 0, loss 0.269, train acc 0.902, test_acc 0.893\n"
     ]
    },
    {
     "name": "stderr",
     "output_type": "stream",
     "text": [
      "Epoch 2/10: 100%|██████████| 60000/60000 [00:02<00:00, 21063.02img/s, loss=0.2607, train_acc=0.9053]\n"
     ]
    },
    {
     "name": "stdout",
     "output_type": "stream",
     "text": [
      "epoch 1, loss 0.261, train acc 0.905, test_acc 0.893\n"
     ]
    },
    {
     "name": "stderr",
     "output_type": "stream",
     "text": [
      "Epoch 3/10: 100%|██████████| 60000/60000 [00:02<00:00, 21343.80img/s, loss=0.2575, train_acc=0.9063]\n"
     ]
    },
    {
     "name": "stdout",
     "output_type": "stream",
     "text": [
      "epoch 2, loss 0.258, train acc 0.906, test_acc 0.887\n",
      "Saved best model checkpoint to models/leNet_norm\\0508121931\\best.ckpt with test accuracy 0.887\n"
     ]
    },
    {
     "name": "stderr",
     "output_type": "stream",
     "text": [
      "Epoch 4/10: 100%|██████████| 60000/60000 [00:02<00:00, 21575.63img/s, loss=0.2542, train_acc=0.9082]\n"
     ]
    },
    {
     "name": "stdout",
     "output_type": "stream",
     "text": [
      "epoch 3, loss 0.254, train acc 0.908, test_acc 0.895\n"
     ]
    },
    {
     "name": "stderr",
     "output_type": "stream",
     "text": [
      "Epoch 5/10: 100%|██████████| 60000/60000 [00:02<00:00, 21419.66img/s, loss=0.2517, train_acc=0.9080]\n"
     ]
    },
    {
     "name": "stdout",
     "output_type": "stream",
     "text": [
      "epoch 4, loss 0.252, train acc 0.908, test_acc 0.896\n"
     ]
    },
    {
     "name": "stderr",
     "output_type": "stream",
     "text": [
      "Epoch 6/10: 100%|██████████| 60000/60000 [00:02<00:00, 21479.81img/s, loss=0.2494, train_acc=0.9090]\n"
     ]
    },
    {
     "name": "stdout",
     "output_type": "stream",
     "text": [
      "epoch 5, loss 0.249, train acc 0.909, test_acc 0.897\n",
      "Saved best model checkpoint to models/leNet_norm\\0508121931\\best.ckpt with test accuracy 0.897\n"
     ]
    },
    {
     "name": "stderr",
     "output_type": "stream",
     "text": [
      "Epoch 7/10: 100%|██████████| 60000/60000 [00:02<00:00, 21233.71img/s, loss=0.2473, train_acc=0.9102]\n"
     ]
    },
    {
     "name": "stdout",
     "output_type": "stream",
     "text": [
      "epoch 6, loss 0.247, train acc 0.910, test_acc 0.894\n"
     ]
    },
    {
     "name": "stderr",
     "output_type": "stream",
     "text": [
      "Epoch 8/10: 100%|██████████| 60000/60000 [00:02<00:00, 21700.43img/s, loss=0.2452, train_acc=0.9115]\n"
     ]
    },
    {
     "name": "stdout",
     "output_type": "stream",
     "text": [
      "epoch 7, loss 0.245, train acc 0.911, test_acc 0.895\n"
     ]
    },
    {
     "name": "stderr",
     "output_type": "stream",
     "text": [
      "Epoch 9/10: 100%|██████████| 60000/60000 [00:02<00:00, 20788.88img/s, loss=0.2437, train_acc=0.9119]\n"
     ]
    },
    {
     "name": "stdout",
     "output_type": "stream",
     "text": [
      "epoch 8, loss 0.244, train acc 0.912, test_acc 0.898\n",
      "Saved best model checkpoint to models/leNet_norm\\0508121931\\best.ckpt with test accuracy 0.898\n"
     ]
    },
    {
     "name": "stderr",
     "output_type": "stream",
     "text": [
      "Epoch 10/10: 100%|██████████| 60000/60000 [00:02<00:00, 21360.23img/s, loss=0.2417, train_acc=0.9116]\n"
     ]
    },
    {
     "name": "stdout",
     "output_type": "stream",
     "text": [
      "epoch 9, loss 0.242, train acc 0.912, test_acc 0.894\n",
      "loss 0.242, train acc 0.912, test acc 0.894\n",
      "70225.0 examples/sec on cuda:0\n"
     ]
    }
   ],
   "execution_count": 22
  },
  {
   "metadata": {
    "ExecuteTime": {
     "end_time": "2024-05-08T04:33:56.867534Z",
     "start_time": "2024-05-08T04:33:56.855493Z"
    }
   },
   "cell_type": "code",
   "source": "net[1].gamma.reshape((-1,)), net[1].beta.reshape((-1,))",
   "id": "8530e6f818b4d9d4",
   "outputs": [
    {
     "data": {
      "text/plain": [
       "(tensor([1., 1., 1., 1., 1., 1.], grad_fn=<ViewBackward0>),\n",
       " tensor([0., 0., 0., 0., 0., 0.], grad_fn=<ViewBackward0>))"
      ]
     },
     "execution_count": 5,
     "metadata": {},
     "output_type": "execute_result"
    }
   ],
   "execution_count": 5
  },
  {
   "metadata": {
    "ExecuteTime": {
     "end_time": "2024-05-08T04:33:59.744233Z",
     "start_time": "2024-05-08T04:33:59.731234Z"
    }
   },
   "cell_type": "code",
   "source": [
    "net = nn.Sequential(\n",
    "    nn.Conv2d(1, 6, kernel_size=5), nn.BatchNorm2d(6), nn.Sigmoid(),\n",
    "    nn.AvgPool2d(kernel_size=2, stride=2),\n",
    "    nn.Conv2d(6, 16, kernel_size=5), nn.BatchNorm2d(16), nn.Sigmoid(),\n",
    "    nn.AvgPool2d(kernel_size=2, stride=2), nn.Flatten(),\n",
    "    nn.Linear(256, 120), nn.BatchNorm1d(120), nn.Sigmoid(),\n",
    "    nn.Linear(120, 84), nn.BatchNorm1d(84), nn.Sigmoid(),\n",
    "    nn.Linear(84, 10))"
   ],
   "id": "49e968dc04a13170",
   "outputs": [],
   "execution_count": 6
  },
  {
   "metadata": {
    "ExecuteTime": {
     "end_time": "2024-05-08T04:36:23.007260Z",
     "start_time": "2024-05-08T04:35:35.927367Z"
    }
   },
   "cell_type": "code",
   "source": [
    "lr, num_epochs, batch_size = 0.1, 10, 256\n",
    "train_iter, test_iter = d2l.load_data_fashion_mnist(batch_size)\n",
    "train_ch6(net, train_iter, test_iter, num_epochs, lr, d2l.try_gpu(),save_path=\"models/leNet_norm\", load_dir=\"models/leNet_norm/best.ckpt\")"
   ],
   "id": "e176141c8e3fc67a",
   "outputs": [
    {
     "name": "stdout",
     "output_type": "stream",
     "text": [
      "load model from models/leNet_norm/best.ckpt\n",
      "training on cuda:0\n",
      "pretrain test acc: 0.8797\n"
     ]
    },
    {
     "name": "stderr",
     "output_type": "stream",
     "text": [
      "Epoch 1/10: 100%|██████████| 60000/60000 [00:02<00:00, 22700.15img/s, loss=0.2438, train_acc=0.9109]\n"
     ]
    },
    {
     "name": "stdout",
     "output_type": "stream",
     "text": [
      "epoch 0, loss 0.244, train acc 0.911, test_acc 0.895\n"
     ]
    },
    {
     "name": "stderr",
     "output_type": "stream",
     "text": [
      "Epoch 2/10: 100%|██████████| 60000/60000 [00:02<00:00, 22597.36img/s, loss=0.2378, train_acc=0.9142]\n"
     ]
    },
    {
     "name": "stdout",
     "output_type": "stream",
     "text": [
      "epoch 1, loss 0.238, train acc 0.914, test_acc 0.890\n"
     ]
    },
    {
     "name": "stderr",
     "output_type": "stream",
     "text": [
      "Epoch 3/10: 100%|██████████| 60000/60000 [00:02<00:00, 22897.75img/s, loss=0.2351, train_acc=0.9138]\n"
     ]
    },
    {
     "name": "stdout",
     "output_type": "stream",
     "text": [
      "epoch 2, loss 0.235, train acc 0.914, test_acc 0.898\n",
      "Saved best model checkpoint to models/leNet_norm\\0508123535\\best.ckpt with test accuracy 0.898\n"
     ]
    },
    {
     "name": "stderr",
     "output_type": "stream",
     "text": [
      "Epoch 4/10: 100%|██████████| 60000/60000 [00:02<00:00, 22402.94img/s, loss=0.2328, train_acc=0.9148]\n"
     ]
    },
    {
     "name": "stdout",
     "output_type": "stream",
     "text": [
      "epoch 3, loss 0.233, train acc 0.915, test_acc 0.899\n"
     ]
    },
    {
     "name": "stderr",
     "output_type": "stream",
     "text": [
      "Epoch 5/10: 100%|██████████| 60000/60000 [00:02<00:00, 22109.15img/s, loss=0.2311, train_acc=0.9163]\n"
     ]
    },
    {
     "name": "stdout",
     "output_type": "stream",
     "text": [
      "epoch 4, loss 0.231, train acc 0.916, test_acc 0.899\n"
     ]
    },
    {
     "name": "stderr",
     "output_type": "stream",
     "text": [
      "Epoch 6/10: 100%|██████████| 60000/60000 [00:02<00:00, 22710.35img/s, loss=0.2293, train_acc=0.9163]\n"
     ]
    },
    {
     "name": "stdout",
     "output_type": "stream",
     "text": [
      "epoch 5, loss 0.229, train acc 0.916, test_acc 0.899\n",
      "Saved best model checkpoint to models/leNet_norm\\0508123535\\best.ckpt with test accuracy 0.899\n"
     ]
    },
    {
     "name": "stderr",
     "output_type": "stream",
     "text": [
      "Epoch 7/10: 100%|██████████| 60000/60000 [00:02<00:00, 22764.62img/s, loss=0.2284, train_acc=0.9169]\n"
     ]
    },
    {
     "name": "stdout",
     "output_type": "stream",
     "text": [
      "epoch 6, loss 0.228, train acc 0.917, test_acc 0.898\n"
     ]
    },
    {
     "name": "stderr",
     "output_type": "stream",
     "text": [
      "Epoch 8/10: 100%|██████████| 60000/60000 [00:02<00:00, 23087.15img/s, loss=0.2263, train_acc=0.9181]\n"
     ]
    },
    {
     "name": "stdout",
     "output_type": "stream",
     "text": [
      "epoch 7, loss 0.226, train acc 0.918, test_acc 0.899\n"
     ]
    },
    {
     "name": "stderr",
     "output_type": "stream",
     "text": [
      "Epoch 9/10: 100%|██████████| 60000/60000 [00:02<00:00, 22819.99img/s, loss=0.2252, train_acc=0.9176]\n"
     ]
    },
    {
     "name": "stdout",
     "output_type": "stream",
     "text": [
      "epoch 8, loss 0.225, train acc 0.918, test_acc 0.900\n",
      "Saved best model checkpoint to models/leNet_norm\\0508123535\\best.ckpt with test accuracy 0.900\n"
     ]
    },
    {
     "name": "stderr",
     "output_type": "stream",
     "text": [
      "Epoch 10/10: 100%|██████████| 60000/60000 [00:02<00:00, 22991.33img/s, loss=0.2239, train_acc=0.9185]\n"
     ]
    },
    {
     "name": "stdout",
     "output_type": "stream",
     "text": [
      "epoch 9, loss 0.224, train acc 0.919, test_acc 0.882\n",
      "loss 0.224, train acc 0.919, test acc 0.882\n",
      "90975.0 examples/sec on cuda:0\n"
     ]
    }
   ],
   "execution_count": 9
  },
  {
   "metadata": {},
   "cell_type": "code",
   "outputs": [],
   "execution_count": null,
   "source": "",
   "id": "70748a43bafc2919"
  }
 ],
 "metadata": {
  "kernelspec": {
   "name": "d2l",
   "language": "python",
   "display_name": "d2l"
  },
  "language_info": {
   "codemirror_mode": {
    "name": "ipython",
    "version": 2
   },
   "file_extension": ".py",
   "mimetype": "text/x-python",
   "name": "python",
   "nbconvert_exporter": "python",
   "pygments_lexer": "ipython2",
   "version": "2.7.6"
  }
 },
 "nbformat": 4,
 "nbformat_minor": 5
}
