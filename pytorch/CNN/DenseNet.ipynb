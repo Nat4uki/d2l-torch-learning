{
 "cells": [
  {
   "metadata": {
    "ExecuteTime": {
     "end_time": "2024-05-09T07:23:38.328649Z",
     "start_time": "2024-05-09T07:23:36.212085Z"
    }
   },
   "cell_type": "code",
   "source": [
    "import torch\n",
    "from torch import nn\n",
    "from d2l import torch as d2l\n",
    "from torch.nn import functional as F\n",
    "from train_epoch.train import train_ch6"
   ],
   "id": "da22d54cc76c62aa",
   "execution_count": 1,
   "outputs": []
  },
  {
   "metadata": {
    "ExecuteTime": {
     "end_time": "2024-05-09T07:23:38.343649Z",
     "start_time": "2024-05-09T07:23:38.329649Z"
    }
   },
   "cell_type": "code",
   "source": [
    "def conv_block(in_channels, num_channels):\n",
    "    return nn.Sequential(\n",
    "        nn.BatchNorm2d(in_channels), nn.ReLU(),\n",
    "        nn.Conv2d(in_channels, num_channels, kernel_size=3, padding=1)\n",
    "    )"
   ],
   "id": "5863819d3ec195be",
   "execution_count": 2,
   "outputs": []
  },
  {
   "metadata": {
    "ExecuteTime": {
     "end_time": "2024-05-09T07:23:38.358662Z",
     "start_time": "2024-05-09T07:23:38.344649Z"
    }
   },
   "cell_type": "code",
   "source": [
    "class DenseBlock(nn.Module):\n",
    "    def __init__(self, num_convs, in_channels, num_channels):\n",
    "        super(DenseBlock,self).__init__()\n",
    "        layer = []\n",
    "        for i in range(num_convs):\n",
    "            layer.append(conv_block(num_channels * i + in_channels, num_channels))\n",
    "        self.net = nn.Sequential(*layer)\n",
    "    \n",
    "    def forward(self, X):\n",
    "        for blk in self.net:\n",
    "            Y = blk(X)\n",
    "            X = torch.cat((X, Y), dim=1)\n",
    "        return X"
   ],
   "id": "355e6d788f659002",
   "execution_count": 3,
   "outputs": []
  },
  {
   "metadata": {
    "ExecuteTime": {
     "end_time": "2024-05-09T07:23:38.999256Z",
     "start_time": "2024-05-09T07:23:38.985344Z"
    }
   },
   "cell_type": "code",
   "source": [
    "blk = DenseBlock(2, 3, 10)\n",
    "X = torch.randn(4 ,3, 8, 8)\n",
    "Y = blk(X)\n",
    "Y.shape"
   ],
   "id": "1254d1b5e58133d0",
   "execution_count": 4,
   "outputs": []
  },
  {
   "metadata": {
    "ExecuteTime": {
     "end_time": "2024-05-09T07:23:39.405144Z",
     "start_time": "2024-05-09T07:23:39.394145Z"
    }
   },
   "cell_type": "code",
   "source": [
    "def transition_block(in_channels, num_channels):\n",
    "    return nn.Sequential(\n",
    "        nn.BatchNorm2d(in_channels), nn.ReLU(),\n",
    "        nn.Conv2d(in_channels, num_channels, kernel_size=1),\n",
    "        nn.AvgPool2d(kernel_size=2, stride=2)\n",
    "    )"
   ],
   "id": "873321729344e242",
   "execution_count": 5,
   "outputs": []
  },
  {
   "metadata": {
    "ExecuteTime": {
     "end_time": "2024-05-09T07:23:39.871892Z",
     "start_time": "2024-05-09T07:23:39.853529Z"
    }
   },
   "cell_type": "code",
   "source": [
    "blk = transition_block(23, 10)\n",
    "blk(Y).shape"
   ],
   "id": "6b1963deee4005fe",
   "execution_count": 6,
   "outputs": []
  },
  {
   "metadata": {
    "ExecuteTime": {
     "end_time": "2024-05-09T07:23:40.480353Z",
     "start_time": "2024-05-09T07:23:40.474353Z"
    }
   },
   "cell_type": "code",
   "source": [
    "b1 = nn.Sequential(nn.Conv2d(1, 64, kernel_size=7, stride=2, padding=3),\n",
    "                   nn.BatchNorm2d(64), nn.ReLU(),\n",
    "                   nn.MaxPool2d(kernel_size=3, stride=2, padding=1))"
   ],
   "id": "594a113860a9d7c2",
   "execution_count": 7,
   "outputs": []
  },
  {
   "metadata": {
    "ExecuteTime": {
     "end_time": "2024-05-09T07:23:40.836655Z",
     "start_time": "2024-05-09T07:23:40.823096Z"
    }
   },
   "cell_type": "code",
   "source": [
    "num_channels, growth_rate = 64, 32\n",
    "num_convs_in_dense_blocks = [4, 4, 4, 4]\n",
    "blks = []\n",
    "for i, num_convs in enumerate(num_convs_in_dense_blocks):\n",
    "    blks.append(DenseBlock(num_convs, num_channels, growth_rate))\n",
    "    num_channels += num_convs * growth_rate\n",
    "    if i != len(num_convs_in_dense_blocks) - 1:\n",
    "        blks.append(transition_block(num_channels, num_channels // 2))\n",
    "        num_channels = num_channels // 2"
   ],
   "id": "71a0c2f3b0e28072",
   "execution_count": 8,
   "outputs": []
  },
  {
   "metadata": {
    "ExecuteTime": {
     "end_time": "2024-05-09T07:23:41.179438Z",
     "start_time": "2024-05-09T07:23:41.167612Z"
    }
   },
   "cell_type": "code",
   "source": [
    "net = nn.Sequential(\n",
    "    b1, *blks,\n",
    "    nn.BatchNorm2d(num_channels), nn.ReLU(),\n",
    "    nn.AdaptiveAvgPool2d((1, 1)),\n",
    "    nn.Flatten(),\n",
    "    nn.Linear(num_channels, 10)\n",
    ")"
   ],
   "id": "ddc54966e96a4de1",
   "execution_count": 9,
   "outputs": []
  },
  {
   "metadata": {
    "ExecuteTime": {
     "end_time": "2024-05-09T07:25:42.879865Z",
     "start_time": "2024-05-09T07:23:41.555110Z"
    }
   },
   "cell_type": "code",
   "source": [
    "lr, num_epochs, batch_size = 0.1, 10, 256\n",
    "train_iter, test_iter = d2l.load_data_fashion_mnist(batch_size, resize=96)\n",
    "train_ch6(net, train_iter, test_iter, num_epochs, lr, d2l.try_gpu(),\n",
    "          save_path=\"models/DenseNet\")"
   ],
   "id": "a328aed010c6f588",
   "execution_count": 10,
   "outputs": []
  },
  {
   "metadata": {},
   "cell_type": "code",
   "execution_count": null,
   "source": "",
   "id": "ce9d1971f6943bb0",
   "outputs": []
  }
 ],
 "metadata": {
  "kernelspec": {
   "name": "d2l",
   "language": "python",
   "display_name": "d2l"
  },
  "language_info": {
   "codemirror_mode": {
    "name": "ipython",
    "version": 2
   },
   "file_extension": ".py",
   "mimetype": "text/x-python",
   "name": "python",
   "nbconvert_exporter": "python",
   "pygments_lexer": "ipython2",
   "version": "2.7.6"
  }
 },
 "nbformat": 4,
 "nbformat_minor": 5
}
