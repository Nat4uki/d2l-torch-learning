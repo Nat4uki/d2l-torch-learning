{
 "cells": [
  {
   "metadata": {
    "ExecuteTime": {
     "end_time": "2024-05-07T15:52:37.607981Z",
     "start_time": "2024-05-07T15:52:35.719111Z"
    }
   },
   "cell_type": "code",
   "source": [
    "import torch\n",
    "from torch import nn\n",
    "from d2l import torch as d2l\n",
    "from train_epoch.train import train_ch6"
   ],
   "id": "da22d54cc76c62aa",
   "execution_count": 1,
   "outputs": []
  },
  {
   "metadata": {
    "ExecuteTime": {
     "end_time": "2024-05-07T15:51:09.862859Z",
     "start_time": "2024-05-07T15:51:09.857825Z"
    }
   },
   "cell_type": "code",
   "source": [
    "net = nn.Sequential(\n",
    "    nn.Conv2d(1, 6, kernel_size=5, padding=2), nn.Sigmoid(),\n",
    "    nn.AvgPool2d(kernel_size=2, stride=2),\n",
    "    nn.Conv2d(6, 16, kernel_size=5), nn.Sigmoid(),\n",
    "    nn.AvgPool2d(kernel_size=2, stride=2),\n",
    "    nn.Flatten(),\n",
    "    nn.Linear(16 * 5 * 5, 120), nn.Sigmoid(),\n",
    "    nn.Linear(120, 84), nn.Sigmoid(),\n",
    "    nn.Linear(84, 10))"
   ],
   "id": "8323f67aa834ce21",
   "execution_count": 2,
   "outputs": []
  },
  {
   "metadata": {
    "ExecuteTime": {
     "end_time": "2024-05-07T15:51:10.330763Z",
     "start_time": "2024-05-07T15:51:10.306725Z"
    }
   },
   "cell_type": "code",
   "source": [
    "X = torch.rand(size=(1, 1, 28, 28), dtype=torch.float32)\n",
    "for layer in net:\n",
    "    X = layer(X)\n",
    "    print(layer.__class__.__name__,'output shape: \\t',X.shape)"
   ],
   "id": "bae64c1cd751d773",
   "execution_count": 3,
   "outputs": []
  },
  {
   "metadata": {
    "ExecuteTime": {
     "end_time": "2024-05-07T15:53:05.213873Z",
     "start_time": "2024-05-07T15:53:05.170840Z"
    }
   },
   "cell_type": "code",
   "source": [
    "batch_size = 256\n",
    "train_iter, test_iter = d2l.load_data_fashion_mnist(batch_size=batch_size)"
   ],
   "id": "8eaac2dd2a16c95",
   "execution_count": 5,
   "outputs": []
  },
  {
   "metadata": {
    "ExecuteTime": {
     "end_time": "2024-05-07T15:34:26.764882Z",
     "start_time": "2024-05-07T15:33:41.603908Z"
    }
   },
   "cell_type": "code",
   "source": [
    "lr, num_epochs = 0.9, 10\n",
    "train_ch6(net, train_iter, test_iter, num_epochs, lr, d2l.try_gpu())"
   ],
   "id": "f1abd4b701cffe5a",
   "execution_count": 49,
   "outputs": []
  },
  {
   "metadata": {
    "ExecuteTime": {
     "end_time": "2024-05-07T15:52:40.819114Z",
     "start_time": "2024-05-07T15:52:40.803114Z"
    }
   },
   "cell_type": "code",
   "source": [
    "import torch\n",
    "import torch.nn as nn\n",
    "\n",
    "class LeNet(nn.Module):\n",
    "    def __init__(self):\n",
    "        super(LeNet, self).__init__()\n",
    "        self.layer1 = nn.Sequential(\n",
    "            nn.Conv2d(1, 8, kernel_size=5, padding=2), nn.ReLU(),\n",
    "            nn.MaxPool2d(kernel_size=2, stride=2)\n",
    "        )\n",
    "        self.layer2 = nn.Sequential(\n",
    "            nn.Conv2d(8, 16, kernel_size=5), nn.ReLU(),\n",
    "            nn.MaxPool2d(kernel_size=2, stride=2)\n",
    "        )\n",
    "        self.classifier = nn.Sequential(\n",
    "            nn.Flatten(),\n",
    "            nn.Linear(16 * 5 * 5, 120), nn.ReLU(),\n",
    "            nn.Linear(120, 64), nn.ReLU(),\n",
    "            nn.Linear(64, 32), nn.Sigmoid(),\n",
    "            nn.Linear(32, 10)\n",
    "        )\n",
    "    \n",
    "    def forward(self, x):\n",
    "        x1 = self.layer1(x)\n",
    "        x2 = self.layer2(x1)\n",
    "        out = self.classifier(x2)\n",
    "        return out\n",
    "    \n",
    "    def get_activations(self, x):\n",
    "        x1 = self.layer1(x)\n",
    "        x2 = self.layer2(x1)\n",
    "        return x1, x2\n",
    "# Initialize the network\n",
    "lenet = LeNet()\n"
   ],
   "id": "c39a71e2945513de",
   "execution_count": 2,
   "outputs": []
  },
  {
   "metadata": {
    "ExecuteTime": {
     "end_time": "2024-05-07T15:57:02.803887Z",
     "start_time": "2024-05-07T15:55:32.842983Z"
    }
   },
   "cell_type": "code",
   "source": [
    "lr, num_epochs = 0.9, 20\n",
    "train_ch6(lenet, train_iter, test_iter, num_epochs, lr, d2l.try_gpu(),save_path=\"models/lenet\")\n",
    "\n",
    "# train_ch6(lenet, train_iter, test_iter, num_epochs, lr, d2l.try_gpu(),save_path=\"models/lenet\",load_dir=\"models/lenet/best.ckpt\")"
   ],
   "id": "7999bd3c9e49ad1e",
   "execution_count": 7,
   "outputs": []
  },
  {
   "metadata": {},
   "cell_type": "code",
   "execution_count": 58,
   "source": [
    "import matplotlib.pyplot as plt\n",
    "\n",
    "def visualize_activations(net, device, dataloader):\n",
    "    net.to(device)\n",
    "    net.eval()\n",
    "    with torch.no_grad():\n",
    "        for X, y in dataloader:\n",
    "            X = X.to(device)\n",
    "            activations1, activations2 = net.get_activations(X)\n",
    "            # 只显示一个批次中的第一个样本的激活\n",
    "            act1 = activations1[0].cpu()\n",
    "            act2 = activations2[0].cpu()\n",
    "            break  # We only need one batch for visualization\n",
    "    \n",
    "    # 可视化第一层的激活\n",
    "    plt.figure(figsize=(16, 6))\n",
    "    for i in range(8):  # 假设第一层有8个过滤器\n",
    "        plt.subplot(2, 4, i + 1)\n",
    "        plt.imshow(act1[i].numpy(), cmap='gray')\n",
    "        plt.title(f'Layer 1 - Filter {i+1}')\n",
    "        plt.axis('off')\n",
    "    plt.show()\n",
    "\n",
    "    # 可视化第二层的激活\n",
    "    plt.figure(figsize=(16, 6))\n",
    "    for i in range(16):  # 假设第二层有16个过滤器\n",
    "        plt.subplot(4, 4, i + 1)\n",
    "        plt.imshow(act2[i].numpy(), cmap='gray')\n",
    "        plt.title(f'Layer 2 - Filter {i+1}')\n",
    "        plt.axis('off')\n",
    "    plt.show()\n",
    "\n",
    "# 假设你已经有了一个数据加载器\n",
    "visualize_activations(lenet, 'cuda', test_iter)\n"
   ],
   "id": "2f7ed2388f6434b3",
   "outputs": []
  },
  {
   "metadata": {
    "ExecuteTime": {
     "end_time": "2024-05-07T15:36:05.853940Z",
     "start_time": "2024-05-07T15:36:05.844942Z"
    }
   },
   "cell_type": "code",
   "source": [
    "def visualize_incorrect_predictions(model, dataloader, device, classes, num_images=5):\n",
    "    model.eval()\n",
    "    model.to(device)\n",
    "    incorrect_count = 0\n",
    "\n",
    "    with torch.no_grad():\n",
    "        for data, target in dataloader:\n",
    "            data, target = data.to(device), target.to(device)\n",
    "            outputs = model(data)\n",
    "            _, predicted = torch.max(outputs, 1)\n",
    "            \n",
    "            # 检查预测是否正确\n",
    "            incorrect_indices = (predicted != target).nonzero(as_tuple=False).squeeze()\n",
    "            for idx in incorrect_indices:\n",
    "                if incorrect_count >= num_images:\n",
    "                    return\n",
    "                plt.figure(figsize=(3, 3))\n",
    "                image = data[idx].cpu().numpy().transpose((1, 2, 0))\n",
    "                true_label = classes[target[idx].item()]\n",
    "                predicted_label = classes[predicted[idx].item()]\n",
    "                \n",
    "                plt.imshow(image, cmap=\"gray\")\n",
    "                plt.title(f\"True: {true_label}, Pred: {predicted_label}\")\n",
    "                plt.axis('off')\n",
    "                plt.show()\n",
    "                \n",
    "                incorrect_count += 1\n"
   ],
   "id": "960670bb615104d3",
   "execution_count": 54,
   "outputs": []
  },
  {
   "metadata": {
    "ExecuteTime": {
     "end_time": "2024-05-07T15:37:49.993720Z",
     "start_time": "2024-05-07T15:37:47.905356Z"
    }
   },
   "cell_type": "code",
   "source": [
    "# 假设类别标签如下\n",
    "classes = [\n",
    "    'T-shirt/top', 'Trouser', 'Pullover', 'Dress', 'Coat',\n",
    "    'Sandal', 'Shirt', 'Sneaker', 'Bag', 'Ankle boot'\n",
    "]# 等等\n",
    "\n",
    "# 调用函数\n",
    "visualize_incorrect_predictions(lenet, test_iter, 'cuda', classes, num_images=10)\n"
   ],
   "id": "7d24c52329a6430d",
   "execution_count": 59,
   "outputs": []
  },
  {
   "metadata": {},
   "cell_type": "code",
   "execution_count": null,
   "source": "",
   "id": "7e0dcc0b41238759",
   "outputs": []
  }
 ],
 "metadata": {
  "kernelspec": {
   "name": "d2l",
   "language": "python",
   "display_name": "d2l"
  },
  "language_info": {
   "codemirror_mode": {
    "name": "ipython",
    "version": 2
   },
   "file_extension": ".py",
   "mimetype": "text/x-python",
   "name": "python",
   "nbconvert_exporter": "python",
   "pygments_lexer": "ipython2",
   "version": "2.7.6"
  }
 },
 "nbformat": 4,
 "nbformat_minor": 5
}
