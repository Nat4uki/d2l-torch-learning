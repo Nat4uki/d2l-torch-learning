{
 "cells": [
  {
   "metadata": {
    "ExecuteTime": {
     "end_time": "2024-05-07T15:52:37.607981Z",
     "start_time": "2024-05-07T15:52:35.719111Z"
    }
   },
   "cell_type": "code",
   "source": [
    "import torch\n",
    "from torch import nn\n",
    "from d2l import torch as d2l\n",
    "from train_epoch.train import train_ch6"
   ],
   "id": "da22d54cc76c62aa",
   "outputs": [],
   "execution_count": 1
  },
  {
   "metadata": {
    "ExecuteTime": {
     "end_time": "2024-05-07T15:51:09.862859Z",
     "start_time": "2024-05-07T15:51:09.857825Z"
    }
   },
   "cell_type": "code",
   "source": [
    "net = nn.Sequential(\n",
    "    nn.Conv2d(1, 6, kernel_size=5, padding=2), nn.Sigmoid(),\n",
    "    nn.AvgPool2d(kernel_size=2, stride=2),\n",
    "    nn.Conv2d(6, 16, kernel_size=5), nn.Sigmoid(),\n",
    "    nn.AvgPool2d(kernel_size=2, stride=2),\n",
    "    nn.Flatten(),\n",
    "    nn.Linear(16 * 5 * 5, 120), nn.Sigmoid(),\n",
    "    nn.Linear(120, 84), nn.Sigmoid(),\n",
    "    nn.Linear(84, 10))"
   ],
   "id": "8323f67aa834ce21",
   "outputs": [],
   "execution_count": 2
  },
  {
   "metadata": {
    "ExecuteTime": {
     "end_time": "2024-05-07T15:51:10.330763Z",
     "start_time": "2024-05-07T15:51:10.306725Z"
    }
   },
   "cell_type": "code",
   "source": [
    "X = torch.rand(size=(1, 1, 28, 28), dtype=torch.float32)\n",
    "for layer in net:\n",
    "    X = layer(X)\n",
    "    print(layer.__class__.__name__,'output shape: \\t',X.shape)"
   ],
   "id": "bae64c1cd751d773",
   "outputs": [
    {
     "name": "stdout",
     "output_type": "stream",
     "text": [
      "Conv2d output shape: \t torch.Size([1, 6, 28, 28])\n",
      "Sigmoid output shape: \t torch.Size([1, 6, 28, 28])\n",
      "AvgPool2d output shape: \t torch.Size([1, 6, 14, 14])\n",
      "Conv2d output shape: \t torch.Size([1, 16, 10, 10])\n",
      "Sigmoid output shape: \t torch.Size([1, 16, 10, 10])\n",
      "AvgPool2d output shape: \t torch.Size([1, 16, 5, 5])\n",
      "Flatten output shape: \t torch.Size([1, 400])\n",
      "Linear output shape: \t torch.Size([1, 120])\n",
      "Sigmoid output shape: \t torch.Size([1, 120])\n",
      "Linear output shape: \t torch.Size([1, 84])\n",
      "Sigmoid output shape: \t torch.Size([1, 84])\n",
      "Linear output shape: \t torch.Size([1, 10])\n"
     ]
    }
   ],
   "execution_count": 3
  },
  {
   "metadata": {
    "ExecuteTime": {
     "end_time": "2024-05-07T15:53:05.213873Z",
     "start_time": "2024-05-07T15:53:05.170840Z"
    }
   },
   "cell_type": "code",
   "source": [
    "batch_size = 256\n",
    "train_iter, test_iter = d2l.load_data_fashion_mnist(batch_size=batch_size)"
   ],
   "id": "8eaac2dd2a16c95",
   "outputs": [],
   "execution_count": 5
  },
  {
   "metadata": {
    "ExecuteTime": {
     "end_time": "2024-05-07T15:34:26.764882Z",
     "start_time": "2024-05-07T15:33:41.603908Z"
    }
   },
   "cell_type": "code",
   "source": [
    "lr, num_epochs = 0.9, 10\n",
    "train_ch6(net, train_iter, test_iter, num_epochs, lr, d2l.try_gpu())"
   ],
   "id": "f1abd4b701cffe5a",
   "outputs": [
    {
     "name": "stdout",
     "output_type": "stream",
     "text": [
      "new models\n",
      "training on cuda:0\n"
     ]
    },
    {
     "name": "stderr",
     "output_type": "stream",
     "text": [
      "Epoch 1/10: 100%|██████████| 60000/60000 [00:02<00:00, 23419.76img/s, loss=2.3102, train_acc=0.1136]\n"
     ]
    },
    {
     "name": "stdout",
     "output_type": "stream",
     "text": [
      "epoch 0, loss 2.310, train acc 0.114, test acc 0.204\n"
     ]
    },
    {
     "name": "stderr",
     "output_type": "stream",
     "text": [
      "Epoch 2/10: 100%|██████████| 60000/60000 [00:02<00:00, 22443.45img/s, loss=1.1936, train_acc=0.5265]\n"
     ]
    },
    {
     "name": "stdout",
     "output_type": "stream",
     "text": [
      "epoch 1, loss 1.194, train acc 0.527, test acc 0.647\n"
     ]
    },
    {
     "name": "stderr",
     "output_type": "stream",
     "text": [
      "Epoch 3/10: 100%|██████████| 60000/60000 [00:02<00:00, 22500.13img/s, loss=0.8153, train_acc=0.6804]\n"
     ]
    },
    {
     "name": "stdout",
     "output_type": "stream",
     "text": [
      "epoch 2, loss 0.815, train acc 0.680, test acc 0.719\n"
     ]
    },
    {
     "name": "stderr",
     "output_type": "stream",
     "text": [
      "Epoch 4/10: 100%|██████████| 60000/60000 [00:02<00:00, 23680.39img/s, loss=0.6894, train_acc=0.7284]\n"
     ]
    },
    {
     "name": "stdout",
     "output_type": "stream",
     "text": [
      "epoch 3, loss 0.689, train acc 0.728, test acc 0.720\n"
     ]
    },
    {
     "name": "stderr",
     "output_type": "stream",
     "text": [
      "Epoch 5/10: 100%|██████████| 60000/60000 [00:02<00:00, 22348.02img/s, loss=0.6271, train_acc=0.7547]\n"
     ]
    },
    {
     "name": "stdout",
     "output_type": "stream",
     "text": [
      "epoch 4, loss 0.627, train acc 0.755, test acc 0.753\n"
     ]
    },
    {
     "name": "stderr",
     "output_type": "stream",
     "text": [
      "Epoch 6/10: 100%|██████████| 60000/60000 [00:02<00:00, 22200.16img/s, loss=0.5764, train_acc=0.7766]\n"
     ]
    },
    {
     "name": "stdout",
     "output_type": "stream",
     "text": [
      "epoch 5, loss 0.576, train acc 0.777, test acc 0.778\n"
     ]
    },
    {
     "name": "stderr",
     "output_type": "stream",
     "text": [
      "Epoch 7/10: 100%|██████████| 60000/60000 [00:02<00:00, 23094.33img/s, loss=0.5318, train_acc=0.7952]\n"
     ]
    },
    {
     "name": "stdout",
     "output_type": "stream",
     "text": [
      "epoch 6, loss 0.532, train acc 0.795, test acc 0.789\n"
     ]
    },
    {
     "name": "stderr",
     "output_type": "stream",
     "text": [
      "Epoch 8/10: 100%|██████████| 60000/60000 [00:02<00:00, 23605.40img/s, loss=0.5000, train_acc=0.8116]\n"
     ]
    },
    {
     "name": "stdout",
     "output_type": "stream",
     "text": [
      "epoch 7, loss 0.500, train acc 0.812, test acc 0.806\n"
     ]
    },
    {
     "name": "stderr",
     "output_type": "stream",
     "text": [
      "Epoch 9/10: 100%|██████████| 60000/60000 [00:02<00:00, 22389.55img/s, loss=0.4764, train_acc=0.8217]\n"
     ]
    },
    {
     "name": "stdout",
     "output_type": "stream",
     "text": [
      "epoch 8, loss 0.476, train acc 0.822, test acc 0.812\n"
     ]
    },
    {
     "name": "stderr",
     "output_type": "stream",
     "text": [
      "Epoch 10/10: 100%|██████████| 60000/60000 [00:02<00:00, 22952.37img/s, loss=0.4566, train_acc=0.8310]\n"
     ]
    },
    {
     "name": "stdout",
     "output_type": "stream",
     "text": [
      "epoch 9, loss 0.457, train acc 0.831, test acc 0.819\n",
      "loss 0.457, train acc 0.831, test acc 0.819\n",
      "93319.6 examples/sec on cuda:0\n"
     ]
    }
   ],
   "execution_count": 49
  },
  {
   "metadata": {
    "ExecuteTime": {
     "end_time": "2024-05-07T15:52:40.819114Z",
     "start_time": "2024-05-07T15:52:40.803114Z"
    }
   },
   "cell_type": "code",
   "source": [
    "import torch\n",
    "import torch.nn as nn\n",
    "\n",
    "class LeNet(nn.Module):\n",
    "    def __init__(self):\n",
    "        super(LeNet, self).__init__()\n",
    "        self.layer1 = nn.Sequential(\n",
    "            nn.Conv2d(1, 8, kernel_size=5, padding=2), nn.ReLU(),\n",
    "            nn.MaxPool2d(kernel_size=2, stride=2)\n",
    "        )\n",
    "        self.layer2 = nn.Sequential(\n",
    "            nn.Conv2d(8, 16, kernel_size=5), nn.ReLU(),\n",
    "            nn.MaxPool2d(kernel_size=2, stride=2)\n",
    "        )\n",
    "        self.classifier = nn.Sequential(\n",
    "            nn.Flatten(),\n",
    "            nn.Linear(16 * 5 * 5, 120), nn.ReLU(),\n",
    "            nn.Linear(120, 64), nn.ReLU(),\n",
    "            nn.Linear(64, 32), nn.Sigmoid(),\n",
    "            nn.Linear(32, 10)\n",
    "        )\n",
    "    \n",
    "    def forward(self, x):\n",
    "        x1 = self.layer1(x)\n",
    "        x2 = self.layer2(x1)\n",
    "        out = self.classifier(x2)\n",
    "        return out\n",
    "    \n",
    "    def get_activations(self, x):\n",
    "        x1 = self.layer1(x)\n",
    "        x2 = self.layer2(x1)\n",
    "        return x1, x2\n",
    "# Initialize the network\n",
    "lenet = LeNet()\n"
   ],
   "id": "c39a71e2945513de",
   "outputs": [],
   "execution_count": 2
  },
  {
   "metadata": {
    "ExecuteTime": {
     "end_time": "2024-05-07T15:57:02.803887Z",
     "start_time": "2024-05-07T15:55:32.842983Z"
    }
   },
   "cell_type": "code",
   "source": [
    "lr, num_epochs = 0.9, 20\n",
    "train_ch6(lenet, train_iter, test_iter, num_epochs, lr, d2l.try_gpu(),save_path=\"models/lenet\")\n",
    "\n",
    "# train_ch6(lenet, train_iter, test_iter, num_epochs, lr, d2l.try_gpu(),save_path=\"models/lenet\",load_dir=\"models/lenet/best.ckpt\")"
   ],
   "id": "7999bd3c9e49ad1e",
   "outputs": [
    {
     "name": "stdout",
     "output_type": "stream",
     "text": [
      "new model\n",
      "training on cuda:0\n"
     ]
    },
    {
     "name": "stderr",
     "output_type": "stream",
     "text": [
      "Epoch 1/20: 100%|██████████| 60000/60000 [00:02<00:00, 21543.52img/s, loss=0.8996, train_acc=0.6624]\n"
     ]
    },
    {
     "name": "stdout",
     "output_type": "stream",
     "text": [
      "epoch 0, loss 0.900, train acc 0.662\n"
     ]
    },
    {
     "name": "stderr",
     "output_type": "stream",
     "text": [
      "Epoch 2/20: 100%|██████████| 60000/60000 [00:02<00:00, 23017.86img/s, loss=0.4639, train_acc=0.8278]\n"
     ]
    },
    {
     "name": "stdout",
     "output_type": "stream",
     "text": [
      "epoch 1, loss 0.464, train acc 0.828\n"
     ]
    },
    {
     "name": "stderr",
     "output_type": "stream",
     "text": [
      "Epoch 3/20: 100%|██████████| 60000/60000 [00:02<00:00, 23408.21img/s, loss=0.3750, train_acc=0.8591]\n"
     ]
    },
    {
     "name": "stdout",
     "output_type": "stream",
     "text": [
      "epoch 2, loss 0.375, train acc 0.859\n",
      "Saved best model checkpoint to models/lenet\\0507235532\\best.ckpt with test accuracy 0.841\n"
     ]
    },
    {
     "name": "stderr",
     "output_type": "stream",
     "text": [
      "Epoch 4/20: 100%|██████████| 60000/60000 [00:02<00:00, 22204.30img/s, loss=0.3406, train_acc=0.8727]\n"
     ]
    },
    {
     "name": "stdout",
     "output_type": "stream",
     "text": [
      "epoch 3, loss 0.341, train acc 0.873\n"
     ]
    },
    {
     "name": "stderr",
     "output_type": "stream",
     "text": [
      "Epoch 5/20: 100%|██████████| 60000/60000 [00:02<00:00, 22946.88img/s, loss=0.3083, train_acc=0.8831]\n"
     ]
    },
    {
     "name": "stdout",
     "output_type": "stream",
     "text": [
      "epoch 4, loss 0.308, train acc 0.883\n"
     ]
    },
    {
     "name": "stderr",
     "output_type": "stream",
     "text": [
      "Epoch 6/20: 100%|██████████| 60000/60000 [00:02<00:00, 22958.58img/s, loss=0.2919, train_acc=0.8892]\n"
     ]
    },
    {
     "name": "stdout",
     "output_type": "stream",
     "text": [
      "epoch 5, loss 0.292, train acc 0.889\n"
     ]
    },
    {
     "name": "stderr",
     "output_type": "stream",
     "text": [
      "Epoch 7/20: 100%|██████████| 60000/60000 [00:02<00:00, 22724.16img/s, loss=0.2829, train_acc=0.8928]\n"
     ]
    },
    {
     "name": "stdout",
     "output_type": "stream",
     "text": [
      "epoch 6, loss 0.283, train acc 0.893\n"
     ]
    },
    {
     "name": "stderr",
     "output_type": "stream",
     "text": [
      "Epoch 8/20: 100%|██████████| 60000/60000 [00:02<00:00, 22040.27img/s, loss=0.2624, train_acc=0.8998]\n"
     ]
    },
    {
     "name": "stdout",
     "output_type": "stream",
     "text": [
      "epoch 7, loss 0.262, train acc 0.900\n"
     ]
    },
    {
     "name": "stderr",
     "output_type": "stream",
     "text": [
      "Epoch 9/20: 100%|██████████| 60000/60000 [00:02<00:00, 23035.36img/s, loss=0.2508, train_acc=0.9058]\n"
     ]
    },
    {
     "name": "stdout",
     "output_type": "stream",
     "text": [
      "epoch 8, loss 0.251, train acc 0.906\n",
      "Saved best model checkpoint to models/lenet\\0507235532\\best.ckpt with test accuracy 0.866\n"
     ]
    },
    {
     "name": "stderr",
     "output_type": "stream",
     "text": [
      "Epoch 10/20: 100%|██████████| 60000/60000 [00:02<00:00, 22085.15img/s, loss=0.2432, train_acc=0.9083]\n"
     ]
    },
    {
     "name": "stdout",
     "output_type": "stream",
     "text": [
      "epoch 9, loss 0.243, train acc 0.908\n"
     ]
    },
    {
     "name": "stderr",
     "output_type": "stream",
     "text": [
      "Epoch 11/20: 100%|██████████| 60000/60000 [00:02<00:00, 23379.60img/s, loss=0.2283, train_acc=0.9133]\n"
     ]
    },
    {
     "name": "stdout",
     "output_type": "stream",
     "text": [
      "epoch 10, loss 0.228, train acc 0.913\n"
     ]
    },
    {
     "name": "stderr",
     "output_type": "stream",
     "text": [
      "Epoch 12/20: 100%|██████████| 60000/60000 [00:02<00:00, 22800.37img/s, loss=0.2207, train_acc=0.9163]\n"
     ]
    },
    {
     "name": "stdout",
     "output_type": "stream",
     "text": [
      "epoch 11, loss 0.221, train acc 0.916\n",
      "Saved best model checkpoint to models/lenet\\0507235532\\best.ckpt with test accuracy 0.872\n"
     ]
    },
    {
     "name": "stderr",
     "output_type": "stream",
     "text": [
      "Epoch 13/20: 100%|██████████| 60000/60000 [00:02<00:00, 22100.66img/s, loss=0.2159, train_acc=0.9181]\n"
     ]
    },
    {
     "name": "stdout",
     "output_type": "stream",
     "text": [
      "epoch 12, loss 0.216, train acc 0.918\n"
     ]
    },
    {
     "name": "stderr",
     "output_type": "stream",
     "text": [
      "Epoch 14/20: 100%|██████████| 60000/60000 [00:02<00:00, 23073.10img/s, loss=0.2052, train_acc=0.9229]\n"
     ]
    },
    {
     "name": "stdout",
     "output_type": "stream",
     "text": [
      "epoch 13, loss 0.205, train acc 0.923\n"
     ]
    },
    {
     "name": "stderr",
     "output_type": "stream",
     "text": [
      "Epoch 15/20: 100%|██████████| 60000/60000 [00:02<00:00, 23394.84img/s, loss=0.2043, train_acc=0.9216]\n"
     ]
    },
    {
     "name": "stdout",
     "output_type": "stream",
     "text": [
      "epoch 14, loss 0.204, train acc 0.922\n",
      "Saved best model checkpoint to models/lenet\\0507235532\\best.ckpt with test accuracy 0.875\n"
     ]
    },
    {
     "name": "stderr",
     "output_type": "stream",
     "text": [
      "Epoch 16/20: 100%|██████████| 60000/60000 [00:02<00:00, 22562.12img/s, loss=0.1910, train_acc=0.9273]\n"
     ]
    },
    {
     "name": "stdout",
     "output_type": "stream",
     "text": [
      "epoch 15, loss 0.191, train acc 0.927\n"
     ]
    },
    {
     "name": "stderr",
     "output_type": "stream",
     "text": [
      "Epoch 17/20: 100%|██████████| 60000/60000 [00:02<00:00, 22325.69img/s, loss=0.1862, train_acc=0.9297]\n"
     ]
    },
    {
     "name": "stdout",
     "output_type": "stream",
     "text": [
      "epoch 16, loss 0.186, train acc 0.930\n"
     ]
    },
    {
     "name": "stderr",
     "output_type": "stream",
     "text": [
      "Epoch 18/20: 100%|██████████| 60000/60000 [00:02<00:00, 22873.79img/s, loss=0.1817, train_acc=0.9305]\n"
     ]
    },
    {
     "name": "stdout",
     "output_type": "stream",
     "text": [
      "epoch 17, loss 0.182, train acc 0.931\n"
     ]
    },
    {
     "name": "stderr",
     "output_type": "stream",
     "text": [
      "Epoch 19/20: 100%|██████████| 60000/60000 [00:02<00:00, 22727.23img/s, loss=0.1797, train_acc=0.9314]\n"
     ]
    },
    {
     "name": "stdout",
     "output_type": "stream",
     "text": [
      "epoch 18, loss 0.180, train acc 0.931\n"
     ]
    },
    {
     "name": "stderr",
     "output_type": "stream",
     "text": [
      "Epoch 20/20: 100%|██████████| 60000/60000 [00:02<00:00, 23171.17img/s, loss=0.1720, train_acc=0.9356]\n"
     ]
    },
    {
     "name": "stdout",
     "output_type": "stream",
     "text": [
      "epoch 19, loss 0.172, train acc 0.936\n",
      "loss 0.172, train acc 0.936, test acc 0.886\n",
      "88142.4 examples/sec on cuda:0\n"
     ]
    }
   ],
   "execution_count": 7
  },
  {
   "metadata": {},
   "cell_type": "code",
   "outputs": [
    {
     "data": {
      "text/plain": [
       "<Figure size 1600x600 with 8 Axes>"
      ],
      "image/png": "[encoded data removed]"
     },
     "metadata": {},
     "output_type": "display_data"
    },
    {
     "data": {
      "text/plain": [
       "<Figure size 1600x600 with 16 Axes>"
      ],
      "image/png": "[encoded data removed]"
     },
     "metadata": {},
     "output_type": "display_data"
    }
   ],
   "execution_count": 58,
   "source": [
    "import matplotlib.pyplot as plt\n",
    "\n",
    "def visualize_activations(net, device, dataloader):\n",
    "    net.to(device)\n",
    "    net.eval()\n",
    "    with torch.no_grad():\n",
    "        for X, y in dataloader:\n",
    "            X = X.to(device)\n",
    "            activations1, activations2 = net.get_activations(X)\n",
    "            # 只显示一个批次中的第一个样本的激活\n",
    "            act1 = activations1[0].cpu()\n",
    "            act2 = activations2[0].cpu()\n",
    "            break  # We only need one batch for visualization\n",
    "    \n",
    "    # 可视化第一层的激活\n",
    "    plt.figure(figsize=(16, 6))\n",
    "    for i in range(8):  # 假设第一层有8个过滤器\n",
    "        plt.subplot(2, 4, i + 1)\n",
    "        plt.imshow(act1[i].numpy(), cmap='gray')\n",
    "        plt.title(f'Layer 1 - Filter {i+1}')\n",
    "        plt.axis('off')\n",
    "    plt.show()\n",
    "\n",
    "    # 可视化第二层的激活\n",
    "    plt.figure(figsize=(16, 6))\n",
    "    for i in range(16):  # 假设第二层有16个过滤器\n",
    "        plt.subplot(4, 4, i + 1)\n",
    "        plt.imshow(act2[i].numpy(), cmap='gray')\n",
    "        plt.title(f'Layer 2 - Filter {i+1}')\n",
    "        plt.axis('off')\n",
    "    plt.show()\n",
    "\n",
    "# 假设你已经有了一个数据加载器\n",
    "visualize_activations(lenet, 'cuda', test_iter)\n"
   ],
   "id": "2f7ed2388f6434b3"
  },
  {
   "metadata": {
    "ExecuteTime": {
     "end_time": "2024-05-07T15:36:05.853940Z",
     "start_time": "2024-05-07T15:36:05.844942Z"
    }
   },
   "cell_type": "code",
   "source": [
    "def visualize_incorrect_predictions(model, dataloader, device, classes, num_images=5):\n",
    "    model.eval()\n",
    "    model.to(device)\n",
    "    incorrect_count = 0\n",
    "\n",
    "    with torch.no_grad():\n",
    "        for data, target in dataloader:\n",
    "            data, target = data.to(device), target.to(device)\n",
    "            outputs = model(data)\n",
    "            _, predicted = torch.max(outputs, 1)\n",
    "            \n",
    "            # 检查预测是否正确\n",
    "            incorrect_indices = (predicted != target).nonzero(as_tuple=False).squeeze()\n",
    "            for idx in incorrect_indices:\n",
    "                if incorrect_count >= num_images:\n",
    "                    return\n",
    "                plt.figure(figsize=(3, 3))\n",
    "                image = data[idx].cpu().numpy().transpose((1, 2, 0))\n",
    "                true_label = classes[target[idx].item()]\n",
    "                predicted_label = classes[predicted[idx].item()]\n",
    "                \n",
    "                plt.imshow(image, cmap=\"gray\")\n",
    "                plt.title(f\"True: {true_label}, Pred: {predicted_label}\")\n",
    "                plt.axis('off')\n",
    "                plt.show()\n",
    "                \n",
    "                incorrect_count += 1\n"
   ],
   "id": "960670bb615104d3",
   "outputs": [],
   "execution_count": 54
  },
  {
   "metadata": {
    "ExecuteTime": {
     "end_time": "2024-05-07T15:37:49.993720Z",
     "start_time": "2024-05-07T15:37:47.905356Z"
    }
   },
   "cell_type": "code",
   "source": [
    "# 假设类别标签如下\n",
    "classes = [\n",
    "    'T-shirt/top', 'Trouser', 'Pullover', 'Dress', 'Coat',\n",
    "    'Sandal', 'Shirt', 'Sneaker', 'Bag', 'Ankle boot'\n",
    "]# 等等\n",
    "\n",
    "# 调用函数\n",
    "visualize_incorrect_predictions(lenet, test_iter, 'cuda', classes, num_images=10)\n"
   ],
   "id": "7d24c52329a6430d",
   "outputs": [
    {
     "data": {
      "text/plain": [
       "<Figure size 300x300 with 1 Axes>"
      ],
      "image/png": "[encoded data removed]"
     },
     "metadata": {},
     "output_type": "display_data"
    },
    {
     "data": {
      "text/plain": [
       "<Figure size 300x300 with 1 Axes>"
      ],
      "image/png": "[encoded data removed]"
     },
     "metadata": {},
     "output_type": "display_data"
    },
    {
     "data": {
      "text/plain": [
       "<Figure size 300x300 with 1 Axes>"
      ],
      "image/png": "[encoded data removed]"
     },
     "metadata": {},
     "output_type": "display_data"
    },
    {
     "data": {
      "text/plain": [
       "<Figure size 300x300 with 1 Axes>"
      ],
      "image/png": "[encoded data removed]"
     },
     "metadata": {},
     "output_type": "display_data"
    },
    {
     "data": {
      "text/plain": [
       "<Figure size 300x300 with 1 Axes>"
      ],
      "image/png": "[encoded data removed]"
     },
     "metadata": {},
     "output_type": "display_data"
    },
    {
     "data": {
      "text/plain": [
       "<Figure size 300x300 with 1 Axes>"
      ],
      "image/png": "[encoded data removed]"
     },
     "metadata": {},
     "output_type": "display_data"
    },
    {
     "data": {
      "text/plain": [
       "<Figure size 300x300 with 1 Axes>"
      ],
      "image/png": "[encoded data removed]"
     },
     "metadata": {},
     "output_type": "display_data"
    },
    {
     "data": {
      "text/plain": [
       "<Figure size 300x300 with 1 Axes>"
      ],
      "image/png": "[encoded data removed]"
     },
     "metadata": {},
     "output_type": "display_data"
    },
    {
     "data": {
      "text/plain": [
       "<Figure size 300x300 with 1 Axes>"
      ],
      "image/png": "[encoded data removed]"
     },
     "metadata": {},
     "output_type": "display_data"
    },
    {
     "data": {
      "text/plain": [
       "<Figure size 300x300 with 1 Axes>"
      ],
      "image/png": "[encoded data removed]"
     },
     "metadata": {},
     "output_type": "display_data"
    }
   ],
   "execution_count": 59
  },
  {
   "metadata": {},
   "cell_type": "code",
   "outputs": [],
   "execution_count": null,
   "source": "",
   "id": "7e0dcc0b41238759"
  }
 ],
 "metadata": {
  "kernelspec": {
   "name": "d2l",
   "language": "python",
   "display_name": "d2l"
  },
  "language_info": {
   "codemirror_mode": {
    "name": "ipython",
    "version": 2
   },
   "file_extension": ".py",
   "mimetype": "text/x-python",
   "name": "python",
   "nbconvert_exporter": "python",
   "pygments_lexer": "ipython2",
   "version": "2.7.6"
  }
 },
 "nbformat": 4,
 "nbformat_minor": 5
}
